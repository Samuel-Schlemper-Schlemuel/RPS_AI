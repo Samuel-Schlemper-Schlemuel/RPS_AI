{
  "nbformat": 4,
  "nbformat_minor": 0,
  "metadata": {
    "colab": {
      "provenance": [],
      "collapsed_sections": [],
      "authorship_tag": "ABX9TyPPDSjl0IQ4frBx91eUEh35"
    },
    "kernelspec": {
      "name": "python3",
      "display_name": "Python 3"
    },
    "language_info": {
      "name": "python"
    },
    "gpuClass": "standard"
  },
  "cells": [
    {
      "cell_type": "markdown",
      "source": [
        "# Aviso importante\n",
        "Esse é um projeto do FreeCodeCamp, essa não será a verção final já que existe alguns arquivos a mais que envolvem todo o projeto, que estarão no meu replit, mas o código principal é basicamente esse"
      ],
      "metadata": {
        "id": "FKLEgLVrb-lr"
      }
    },
    {
      "cell_type": "code",
      "source": [
        "import random as rm"
      ],
      "metadata": {
        "id": "leYAoSaMb6M8"
      },
      "execution_count": 48,
      "outputs": []
    },
    {
      "cell_type": "code",
      "source": [
        "def player(prev_play, opponent_history=[], memory = {}):\n",
        "  if prev_play != None and prev_play != '':\n",
        "    opponent_history.append(prev_play)\n",
        "  else:\n",
        "    opponent_history.clear()\n",
        "    memory.clear()\n",
        "\n",
        "  transformation = {'R': 'P', 'P': 'S', 'S': 'R'}\n",
        "\n",
        "  if len(opponent_history) <= 1:\n",
        "    movement = rm.choice(['R', 'P', 'S'])\n",
        "  else:\n",
        "    text = ''.join(opponent_history[-4:])\n",
        "\n",
        "    if memory.get(text) == None:\n",
        "      memory[text] = 1\n",
        "    else:\n",
        "      memory[text] += 1\n",
        "    \n",
        "    previw = ''.join(opponent_history[-3:])\n",
        "    \n",
        "    movement = transformation[max([previw+'R', previw+'P', previw+'S'], key = lambda k: memory.get(k, 0))[-1]]\n",
        "  \n",
        "  return movement"
      ],
      "metadata": {
        "id": "foRP4NUDbDXW"
      },
      "execution_count": 49,
      "outputs": []
    },
    {
      "cell_type": "markdown",
      "source": [
        "## Teste"
      ],
      "metadata": {
        "id": "1tT5ahjhMBtV"
      }
    },
    {
      "cell_type": "code",
      "source": [
        "def game1():\n",
        "  gamer = ['P', 'S', 'R', 'R', 'S', 'S', 'P', 'R', 'P', 'R']\n",
        "  status = {'victory': 0, 'equal': 0, 'loss': 0}\n",
        "  \n",
        "  def test(bot, gamer):\n",
        "    if bot == gamer:\n",
        "      status['equal'] += 1\n",
        "    elif bot == 'R' and gamer == 'P':\n",
        "      status['victory'] += 1\n",
        "    elif bot == 'R' and gamer == 'S':\n",
        "      status['loss'] += 1\n",
        "    elif bot == 'P' and gamer == 'R':\n",
        "      status['loss'] += 1\n",
        "    elif bot == 'P' and gamer == 'S':\n",
        "      status['victory'] += 1\n",
        "    elif bot == 'S' and gamer == 'R':\n",
        "      status['victory'] += 1\n",
        "    elif bot == 'S' and gamer == 'P':\n",
        "      status['loss'] += 1\n",
        "\n",
        "  last_chose = ''\n",
        "  test(player(last_chose), 'R')\n",
        "  last_chose = 'R'\n",
        "\n",
        "  for round in range(10):\n",
        "    for chose in gamer:\n",
        "      test(player(last_chose), chose)\n",
        "      last_chose = chose\n",
        "\n",
        "  victory_machine_percentage = status['loss'] / (status['victory'] + status['loss']) * 100\n",
        "  print(status, f'{victory_machine_percentage}%')"
      ],
      "metadata": {
        "id": "37q_Q-eMhgMP"
      },
      "execution_count": 50,
      "outputs": []
    },
    {
      "cell_type": "code",
      "source": [
        "game1()"
      ],
      "metadata": {
        "colab": {
          "base_uri": "https://localhost:8080/"
        },
        "id": "RTx6Kh-DoMSm",
        "outputId": "286d738f-c7c2-4cf3-e491-949f09fd9532"
      },
      "execution_count": 51,
      "outputs": [
        {
          "output_type": "stream",
          "name": "stdout",
          "text": [
            "{'victory': 12, 'equal': 5, 'loss': 84} 87.5%\n"
          ]
        }
      ]
    }
  ]
}